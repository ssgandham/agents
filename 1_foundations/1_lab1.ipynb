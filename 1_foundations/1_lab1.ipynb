{
 "cells": [
  {
   "cell_type": "markdown",
   "metadata": {},
   "source": [
    "# Welcome to the start of your adventure in Agentic AI"
   ]
  },
  {
   "cell_type": "markdown",
   "metadata": {},
   "source": [
    "<table style=\"margin: 0; text-align: left; width:100%\">\n",
    "    <tr>\n",
    "        <td style=\"width: 150px; height: 150px; vertical-align: middle;\">\n",
    "            <img src=\"../assets/stop.png\" width=\"150\" height=\"150\" style=\"display: block;\" />\n",
    "        </td>\n",
    "        <td>\n",
    "            <h2 style=\"color:#ff7800;\">Are you ready for action??</h2>\n",
    "            <span style=\"color:#ff7800;\">Have you completed all the setup steps in the <a href=\"../setup/\">setup</a> folder?<br/>\n",
    "            Have you read the <a href=\"../README.md\">README</a>? Many common questions are answered here!<br/>\n",
    "            Have you checked out the guides in the <a href=\"../guides/01_intro.ipynb\">guides</a> folder?<br/>\n",
    "            Well in that case, you're ready!!\n",
    "            </span>\n",
    "        </td>\n",
    "    </tr>\n",
    "</table>"
   ]
  },
  {
   "cell_type": "markdown",
   "metadata": {},
   "source": [
    "<table style=\"margin: 0; text-align: left; width:100%\">\n",
    "    <tr>\n",
    "        <td style=\"width: 150px; height: 150px; vertical-align: middle;\">\n",
    "            <img src=\"../assets/tools.png\" width=\"150\" height=\"150\" style=\"display: block;\" />\n",
    "        </td>\n",
    "        <td>\n",
    "            <h2 style=\"color:#00bfff;\">This code is a live resource - keep an eye out for my updates</h2>\n",
    "            <span style=\"color:#00bfff;\">I push updates regularly. As people ask questions or have problems, I add more examples and improve explanations. As a result, the code below might not be identical to the videos, as I've added more steps and better comments. Consider this like an interactive book that accompanies the lectures.<br/><br/>\n",
    "            I try to send emails regularly with important updates related to the course. You can find this in the 'Announcements' section of Udemy in the left sidebar. You can also choose to receive my emails via your Notification Settings in Udemy. I'm respectful of your inbox and always try to add value with my emails!\n",
    "            </span>\n",
    "        </td>\n",
    "    </tr>\n",
    "</table>"
   ]
  },
  {
   "cell_type": "markdown",
   "metadata": {},
   "source": [
    "### And please do remember to contact me if I can help\n",
    "\n",
    "And I love to connect: https://www.linkedin.com/in/eddonner/\n",
    "\n",
    "\n",
    "### New to Notebooks like this one? Head over to the guides folder!\n",
    "\n",
    "Just to check you've already added the Python and Jupyter extensions to Cursor, if not already installed:\n",
    "- Open extensions (View >> extensions)\n",
    "- Search for python, and when the results show, click on the ms-python one, and Install it if not already installed\n",
    "- Search for jupyter, and when the results show, click on the Microsoft one, and Install it if not already installed  \n",
    "Then View >> Explorer to bring back the File Explorer.\n",
    "\n",
    "And then:\n",
    "1. Click where it says \"Select Kernel\" near the top right, and select the option called `.venv (Python 3.12.9)` or similar, which should be the first choice or the most prominent choice. You may need to choose \"Python Environments\" first.\n",
    "2. Click in each \"cell\" below, starting with the cell immediately below this text, and press Shift+Enter to run\n",
    "3. Enjoy!\n",
    "\n",
    "After you click \"Select Kernel\", if there is no option like `.venv (Python 3.12.9)` then please do the following:  \n",
    "1. On Mac: From the Cursor menu, choose Settings >> VS Code Settings (NOTE: be sure to select `VSCode Settings` not `Cursor Settings`);  \n",
    "On Windows PC: From the File menu, choose Preferences >> VS Code Settings(NOTE: be sure to select `VSCode Settings` not `Cursor Settings`)  \n",
    "2. In the Settings search bar, type \"venv\"  \n",
    "3. In the field \"Path to folder with a list of Virtual Environments\" put the path to the project root, like C:\\Users\\username\\projects\\agents (on a Windows PC) or /Users/username/projects/agents (on Mac or Linux).  \n",
    "And then try again.\n",
    "\n",
    "Having problems with missing Python versions in that list? Have you ever used Anaconda before? It might be interferring. Quit Cursor, bring up a new command line, and make sure that your Anaconda environment is deactivated:    \n",
    "`conda deactivate`  \n",
    "And if you still have any problems with conda and python versions, it's possible that you will need to run this too:  \n",
    "`conda config --set auto_activate_base false`  \n",
    "and then from within the Agents directory, you should be able to run `uv python list` and see the Python 3.12 version."
   ]
  },
  {
   "cell_type": "code",
   "execution_count": 6,
   "metadata": {},
   "outputs": [],
   "source": [
    "# First let's do an import. If you get an Import Error, double check that your Kernel is correct..\n",
    "\n",
    "from dotenv import load_dotenv\n"
   ]
  },
  {
   "cell_type": "code",
   "execution_count": 10,
   "metadata": {},
   "outputs": [
    {
     "data": {
      "text/plain": [
       "True"
      ]
     },
     "execution_count": 10,
     "metadata": {},
     "output_type": "execute_result"
    }
   ],
   "source": [
    "# Next it's time to load the API keys into environment variables\n",
    "# If this returns false, see the next cell!\n",
    "\n",
    "load_dotenv(override=True)"
   ]
  },
  {
   "cell_type": "markdown",
   "metadata": {},
   "source": [
    "### Wait, did that just output `False`??\n",
    "\n",
    "If so, the most common reason is that you didn't save your `.env` file after adding the key! Be sure to have saved.\n",
    "\n",
    "Also, make sure the `.env` file is named precisely `.env` and is in the project root directory (`agents`)\n",
    "\n",
    "By the way, your `.env` file should have a stop symbol next to it in Cursor on the left, and that's actually a good thing: that's Cursor saying to you, \"hey, I realize this is a file filled with secret information, and I'm not going to send it to an external AI to suggest changes, because your keys should not be shown to anyone else.\""
   ]
  },
  {
   "cell_type": "markdown",
   "metadata": {},
   "source": [
    "<table style=\"margin: 0; text-align: left; width:100%\">\n",
    "    <tr>\n",
    "        <td style=\"width: 150px; height: 150px; vertical-align: middle;\">\n",
    "            <img src=\"../assets/stop.png\" width=\"150\" height=\"150\" style=\"display: block;\" />\n",
    "        </td>\n",
    "        <td>\n",
    "            <h2 style=\"color:#ff7800;\">Final reminders</h2>\n",
    "            <span style=\"color:#ff7800;\">1. If you're not confident about Environment Variables or Web Endpoints / APIs, please read Topics 3 and 5 in this <a href=\"../guides/04_technical_foundations.ipynb\">technical foundations guide</a>.<br/>\n",
    "            2. If you want to use AIs other than OpenAI, like Gemini, DeepSeek or Ollama (free), please see the first section in this <a href=\"../guides/09_ai_apis_and_ollama.ipynb\">AI APIs guide</a>.<br/>\n",
    "            3. If you ever get a Name Error in Python, you can always fix it immediately; see the last section of this <a href=\"../guides/06_python_foundations.ipynb\">Python Foundations guide</a> and follow both tutorials and exercises.<br/>\n",
    "            </span>\n",
    "        </td>\n",
    "    </tr>\n",
    "</table>"
   ]
  },
  {
   "cell_type": "code",
   "execution_count": 11,
   "metadata": {},
   "outputs": [
    {
     "name": "stdout",
     "output_type": "stream",
     "text": [
      "OpenAI API Key exists and begins sk-proj-\n"
     ]
    }
   ],
   "source": [
    "# Check the key - if you're not using OpenAI, check whichever key you're using! Ollama doesn't need a key.\n",
    "\n",
    "import os\n",
    "openai_api_key = os.getenv('OPENAI_API_KEY')\n",
    "\n",
    "if openai_api_key:\n",
    "    print(f\"OpenAI API Key exists and begins {openai_api_key[:8]}\")\n",
    "else:\n",
    "    print(\"OpenAI API Key not set - please head to the troubleshooting guide in the setup folder\")\n",
    "    \n"
   ]
  },
  {
   "cell_type": "code",
   "execution_count": 12,
   "metadata": {},
   "outputs": [],
   "source": [
    "# And now - the all important import statement\n",
    "# If you get an import error - head over to troubleshooting in the Setup folder\n",
    "# Even for other LLM providers like Gemini, you still use this OpenAI import - see Guide 9 for why\n",
    "\n",
    "from openai import OpenAI"
   ]
  },
  {
   "cell_type": "code",
   "execution_count": 13,
   "metadata": {},
   "outputs": [],
   "source": [
    "# And now we'll create an instance of the OpenAI class\n",
    "# If you're not sure what it means to create an instance of a class - head over to the guides folder (guide 6)!\n",
    "# If you get a NameError - head over to the guides folder (guide 6)to learn about NameErrors - always instantly fixable\n",
    "# If you're not using OpenAI, you just need to slightly modify this - precise instructions are in the AI APIs guide (guide 9)\n",
    "\n",
    "openai = OpenAI()"
   ]
  },
  {
   "cell_type": "code",
   "execution_count": 14,
   "metadata": {},
   "outputs": [],
   "source": [
    "# Create a list of messages in the familiar OpenAI format\n",
    "\n",
    "messages = [{\"role\": \"user\", \"content\": \"What is 2+2?\"}]"
   ]
  },
  {
   "cell_type": "code",
   "execution_count": 15,
   "metadata": {},
   "outputs": [
    {
     "name": "stdout",
     "output_type": "stream",
     "text": [
      "2 + 2 = 4\n"
     ]
    }
   ],
   "source": [
    "# And now call it! Any problems, head to the troubleshooting guide\n",
    "# This uses GPT 4.1 nano, the incredibly cheap model\n",
    "# The APIs guide (guide 9) has exact instructions for using even cheaper or free alternatives to OpenAI\n",
    "# If you get a NameError, head to the guides folder (guide 6) to learn about NameErrors - always instantly fixable\n",
    "\n",
    "response = openai.chat.completions.create(\n",
    "    model=\"gpt-4.1-nano\",\n",
    "    messages=messages\n",
    ")\n",
    "\n",
    "print(response.choices[0].message.content)\n"
   ]
  },
  {
   "cell_type": "code",
   "execution_count": 16,
   "metadata": {},
   "outputs": [],
   "source": [
    "# And now - let's ask for a question:\n",
    "\n",
    "question = \"Please propose a hard, challenging question to assess someone's IQ. Respond only with the question.\"\n",
    "messages = [{\"role\": \"user\", \"content\": question}]\n"
   ]
  },
  {
   "cell_type": "code",
   "execution_count": 17,
   "metadata": {},
   "outputs": [
    {
     "name": "stdout",
     "output_type": "stream",
     "text": [
      "If you rearrange the letters \"CIFAIPC\" you would have the name of a(n):  \n",
      "A) City  \n",
      "B) Ocean  \n",
      "C) River  \n",
      "D) Country  \n",
      "E) Animal\n"
     ]
    }
   ],
   "source": [
    "# ask it - this uses GPT 4.1 mini, still cheap but more powerful than nano\n",
    "\n",
    "response = openai.chat.completions.create(\n",
    "    model=\"gpt-4.1-mini\",\n",
    "    messages=messages\n",
    ")\n",
    "\n",
    "question = response.choices[0].message.content\n",
    "\n",
    "print(question)\n"
   ]
  },
  {
   "cell_type": "code",
   "execution_count": 18,
   "metadata": {},
   "outputs": [],
   "source": [
    "# form a new messages list\n",
    "messages = [{\"role\": \"user\", \"content\": question}]\n"
   ]
  },
  {
   "cell_type": "code",
   "execution_count": 19,
   "metadata": {},
   "outputs": [
    {
     "name": "stdout",
     "output_type": "stream",
     "text": [
      "If you rearrange the letters **CIFAIPC**, you get **PACIFIC**.\n",
      "\n",
      "The Pacific is an **Ocean**.\n",
      "\n",
      "**Answer: B) Ocean**\n"
     ]
    }
   ],
   "source": [
    "# Ask it again\n",
    "\n",
    "response = openai.chat.completions.create(\n",
    "    model=\"gpt-4.1-mini\",\n",
    "    messages=messages\n",
    ")\n",
    "\n",
    "answer = response.choices[0].message.content\n",
    "print(answer)\n"
   ]
  },
  {
   "cell_type": "code",
   "execution_count": null,
   "metadata": {},
   "outputs": [
    {
     "data": {
      "text/markdown": [
       "If you rearrange the letters **CIFAIPC**, you get **PACIFIC**.\n",
       "\n",
       "The Pacific is an **Ocean**.\n",
       "\n",
       "**Answer: B) Ocean**"
      ],
      "text/plain": [
       "<IPython.core.display.Markdown object>"
      ]
     },
     "metadata": {},
     "output_type": "display_data"
    }
   ],
   "source": [
    "from IPython.display import Markdown, display\n",
    "\n",
    "display(Markdown(answer))\n",
    "\n"
   ]
  },
  {
   "cell_type": "code",
   "execution_count": 22,
   "metadata": {},
   "outputs": [
    {
     "name": "stdout",
     "output_type": "stream",
     "text": [
      "The line of code you provided is actually two parts combined into one, and it's used in a Jupyter notebook environment (or any environment that supports IPython display functionality).\n",
      "\n",
      "Let's break it down:\n",
      "\n",
      "```python\n",
      "from IPython.display import Markdown, display\n",
      "display(Markdown(answer))\n",
      "```\n",
      "\n",
      "### Explanation:\n",
      "\n",
      "1. **`from IPython.display import Markdown, display`**  \n",
      "   This imports two functions/classes from the `IPython.display` module:\n",
      "   - `Markdown`: A function/class intended to render a string as Markdown.\n",
      "   - `display`: A function used to display rich output in IPython environments (like Jupyter notebooks).\n",
      "\n",
      "2. **`display(Markdown(answer))`**  \n",
      "   This calls the `Markdown` function/class on the variable `answer` and then passes the resulting Markdown object to `display`.  \n",
      "   Essentially, it means:\n",
      "   - Take the `answer` string.\n",
      "   - Interpret/format that string as Markdown.\n",
      "   - Display it nicely in the notebook output cell, rendering headings, bullets, bold text, links, etc., according to Markdown syntax.\n",
      "\n",
      "### Summary:\n",
      "This code snippet takes a string (`answer`) which contains Markdown-formatted text and displays it rendered as formatted Markdown in an IPython/Jupyter notebook environment.\n",
      "\n",
      "### Example:\n",
      "\n",
      "```python\n",
      "from IPython.display import Markdown, display\n",
      "\n",
      "answer = \"# Hello World\\nThis is **bold** text and this is a [link](https://www.example.com).\"\n",
      "display(Markdown(answer))\n",
      "```\n",
      "\n",
      "Output:  \n",
      "It will display a large heading saying \"Hello World,\" with bold text and a clickable link, rather than just displaying the plain raw string.\n",
      "\n",
      "---\n",
      "\n",
      "Let me know if you'd like me to explain Markdown, or how to use this in other environments!\n"
     ]
    }
   ],
   "source": [
    "\n",
    "question = \"whats this doing from IPython.display import Markdown, display(Markdown(answer))\"\n",
    "messages = [{\"role\": \"user\", \"content\": question}]\n",
    "response = openai.chat.completions.create(\n",
    "    model=\"gpt-4.1-mini\",\n",
    "    messages=messages\n",
    ")\n",
    "\n",
    "question = response.choices[0].message.content\n",
    "\n",
    "print(question)\n"
   ]
  },
  {
   "cell_type": "markdown",
   "metadata": {},
   "source": [
    "# Congratulations!\n",
    "\n",
    "That was a small, simple step in the direction of Agentic AI, with your new environment!\n",
    "\n",
    "Next time things get more interesting..."
   ]
  },
  {
   "cell_type": "markdown",
   "metadata": {},
   "source": [
    "<table style=\"margin: 0; text-align: left; width:100%\">\n",
    "    <tr>\n",
    "        <td style=\"width: 150px; height: 150px; vertical-align: middle;\">\n",
    "            <img src=\"../assets/exercise.png\" width=\"150\" height=\"150\" style=\"display: block;\" />\n",
    "        </td>\n",
    "        <td>\n",
    "            <h2 style=\"color:#ff7800;\">Exercise</h2>\n",
    "            <span style=\"color:#ff7800;\">Now try this commercial application:<br/>\n",
    "            First ask the LLM to pick a business area that might be worth exploring for an Agentic AI opportunity.<br/>\n",
    "            Then ask the LLM to present a pain-point in that industry - something challenging that might be ripe for an Agentic solution.<br/>\n",
    "            Finally have 3 third LLM call propose the Agentic AI solution. <br/>\n",
    "            We will cover this at up-coming labs, so don't worry if you're unsure.. just give it a try!\n",
    "            </span>\n",
    "        </td>\n",
    "    </tr>\n",
    "</table>"
   ]
  },
  {
   "cell_type": "code",
   "execution_count": null,
   "metadata": {},
   "outputs": [
    {
     "name": "stdout",
     "output_type": "stream",
     "text": [
      "One promising business area for an Agentic AI opportunity is **Personalized Health and Wellness Management**.\n",
      "\n",
      "### Why this area?\n",
      "- **Growing market demand:** Consumers are increasingly focused on health, wellness, and preventive care.\n",
      "- **Complex decision-making:** Managing diets, exercise, mental health, and chronic conditions often requires continuously updated, personalized advice.\n",
      "- **Data-rich environment:** Wearables, health apps, medical records, and genetic data provide ample input for sophisticated AI models.\n",
      "- **Agentic AI advantage:** An agentic AI could proactively analyze multiple data sources, set personalized health goals, schedule activities, adjust recommendations in real-time, and even coordinate with healthcare providers.\n",
      "\n",
      "### Possible Agentic AI features:\n",
      "- Continuously monitor health indicators from wearables and medical devices.\n",
      "- Autonomously design and adjust personalized nutrition and exercise plans.\n",
      "- Schedule appointments, medication reminders, and mental wellness activities.\n",
      "- Interact with users in natural language to provide motivation, answer questions, and adapt plans based on feedback.\n",
      "- Alert healthcare professionals when intervention might be needed.\n",
      "- Integrate with insurance to optimize care and reduce costs.\n",
      "\n",
      "### Business opportunities:\n",
      "- **Subscription-based personal health concierge service.**\n",
      "- **B2B partnerships with insurers, wellness providers, and employers to offer AI-driven wellness programs.**\n",
      "- **Platform for physicians to monitor patients’ ongoing health states more effectively.**\n",
      "\n",
      "Would you like me to help develop this idea further or explore other business areas for Agentic AI?\n"
     ]
    }
   ],
   "source": [
    "# First create the messages:\n",
    "\n",
    "messages = [{\"role\": \"user\", \"content\": \"You are a helpful assistant who can help me with my business ideas. Pick a business area that might be worth exploring for an Agentic AI opportunity.\"}]\n",
    "\n",
    "# Then make the first call:\n",
    "response = openai.chat.completions.create(\n",
    "    model=\"gpt-4.1-mini\",\n",
    "    messages=messages\n",
    ")\n",
    "\n",
    "business_idea = response.choices[0].message.content\n",
    "\n",
    "print(business_idea)\n",
    "\n",
    "\n",
    "\n",
    "# And repeat! In the next message, include the business idea within the message"
   ]
  },
  {
   "cell_type": "code",
   "execution_count": 25,
   "metadata": {},
   "outputs": [
    {
     "data": {
      "text/markdown": [
       "Certainly! Here’s a challenging pain-point in the **Personalized Health and Wellness Management** industry that could benefit from an Agentic AI solution:\n",
       "\n",
       "---\n",
       "\n",
       "### Pain-point: **Delayed and Inadequate Response to Emerging Health Risks Due to Static and Reactive Wellness Plans**\n",
       "\n",
       "**Explanation:**  \n",
       "Many personalized health programs rely heavily on static or periodically updated wellness plans based on historical data or infrequent assessments. This approach leads to significant gaps in:\n",
       "\n",
       "- **Early Detection of Emerging Health Issues:** Changes in health markers or lifestyle that signal risks (e.g., rising stress levels, early metabolic shifts) often go unnoticed until symptomatic or critical.  \n",
       "- **Timely Plan Adaptation:** Static plans fail to account for dynamic factors such as fluctuating stress, sleep quality variations, or environmental triggers that influence health day-to-day.  \n",
       "- **Proactive Intervention:** Without continuous, anticipatory adjustments, users miss opportunities to prevent deterioration or accelerate improvement.  \n",
       "- **User Engagement with Real-Time Feedback:** Lack of immediate, personalized feedback reduces motivation and adherence to wellness goals.\n",
       "\n",
       "---\n",
       "\n",
       "### Why is this ripe for an Agentic AI solution?\n",
       "\n",
       "An agentic AI could act as a continuously learning and autonomous health sentinel that:\n",
       "\n",
       "- **Monitors real-time multi-dimensional health signals** to detect subtle early warning signs.  \n",
       "- **Anticipates health risks and dynamically adapts personalized wellness plans** before issues escalate.  \n",
       "- **Engages users proactively with tailored nudges and interventions**, adjusting tone and guidance based on emotional and motivational state.  \n",
       "- **Coordinates intervention timing and intensity** by factoring in user context, preferences, and readiness to change.  \n",
       "- **Collaborates with healthcare professionals and caregivers** to trigger timely follow-ups or escalate care when necessary.\n",
       "\n",
       "---\n",
       "\n",
       "Would you like me to develop this further into specific solution concepts, user scenarios, or technical approaches?"
      ],
      "text/plain": [
       "<IPython.core.display.Markdown object>"
      ]
     },
     "metadata": {},
     "output_type": "display_data"
    }
   ],
   "source": [
    "# First create the messages:\n",
    "\n",
    "messages = [{\"role\": \"user\", \"content\": business_idea + \"Now, please propose a pain-point in that industry - something challenging that might be ripe for an Agentic solution.\"}]\n",
    "\n",
    "# Then make the first call:\n",
    "response = openai.chat.completions.create(\n",
    "    model=\"gpt-4.1-mini\",\n",
    "    messages=messages\n",
    ")\n",
    "\n",
    "business_idea = response.choices[0].message.content\n",
    "\n",
    "display(Markdown(business_idea))\n",
    "\n",
    "\n",
    "\n",
    "# And repeat! In the next message, include the business idea within the message"
   ]
  },
  {
   "cell_type": "code",
   "execution_count": 26,
   "metadata": {},
   "outputs": [
    {
     "data": {
      "text/markdown": [
       "Certainly! Here is a proposed **Agentic AI solution** to address the pain-point of delayed and inadequate response to emerging health risks due to static and reactive wellness plans in Personalized Health and Wellness Management:\n",
       "\n",
       "---\n",
       "\n",
       "## Agentic AI Solution: **Adaptive Health Sentinel (AHS)**\n",
       "\n",
       "### Overview  \n",
       "The Adaptive Health Sentinel is a continuous, autonomous AI agent designed to act as a dynamic, personalized wellness coach and early warning system. It seamlessly integrates real-time health data streams, predictive analytics, behavioral science, and empathetic user interaction to deliver proactive, context-sensitive wellness management.\n",
       "\n",
       "---\n",
       "\n",
       "### Key Features and Capabilities\n",
       "\n",
       "#### 1. **Continuous Multi-Dimensional Health Monitoring**  \n",
       "- Integrates data from wearables (heart rate variability, sleep quality, activity levels), mobile apps (mood journaling, diet tracking), environmental sensors (air quality, noise), and periodic biometrics (blood glucose, blood pressure).  \n",
       "- Utilizes federated learning and privacy-preserving AI to securely aggregate user data while maintaining confidentiality.\n",
       "\n",
       "#### 2. **Early Risk Detection and Predictive Analytics**  \n",
       "- Employs advanced machine learning models to detect subtle deviations and emerging patterns that precede health deterioration, such as rising stress or early metabolic changes.  \n",
       "- Continuously adapts models based on user-specific baselines and population health trends.\n",
       "\n",
       "#### 3. **Dynamic Personalized Wellness Plan Generation**  \n",
       "- Autonomously updates wellness plans daily or weekly, adjusting recommendations for nutrition, exercise, sleep, mindfulness, and social engagement based on the latest data and predictive insights.  \n",
       "- Balances short-term needs (e.g., rest after stress spike) with long-term goals (e.g., weight management, cardiovascular health).\n",
       "\n",
       "#### 4. **Proactive and Empathetic User Engagement**  \n",
       "- Generates personalized nudges, reminders, and motivational messages that adapt in tone, content, and timing to user state and preferences using natural language processing and affective computing.  \n",
       "- Recognizes signs of disengagement or emotional distress and modifies interaction strategies accordingly.\n",
       "\n",
       "#### 5. **Context-Aware Intervention Coordination**  \n",
       "- Aligns wellness recommendations with user context such as schedule, location, social environment, and readiness to change using multimodal contextual understanding.  \n",
       "- Suggests incremental behavior modifications when full recommendations are infeasible, increasing adherence.\n",
       "\n",
       "#### 6. **Collaborative Healthcare Integration**  \n",
       "- Provides summarized, actionable insights and alerts to users’ healthcare providers or caregivers with user consent, enabling timely clinical follow-ups or escalations.  \n",
       "- Facilitates a two-way communication channel between user, AI agent, and professionals.\n",
       "\n",
       "---\n",
       "\n",
       "### Example User Scenario\n",
       "\n",
       "*Anna, a 45-year-old office worker managing mild hypertension and stress, wears a health tracker and logs meals via an app. The AHS detects subtle increases in heart rate variability and reports poor sleep quality over several days, indicating rising stress. It updates Anna’s wellness plan recommending a short mindfulness session during lunch, adjusts dietary suggestions to reduce caffeine, and nudges her with an empathetic message:*\n",
       "\n",
       "*\"Hi Anna, I noticed your stress levels have been a bit higher lately. How about a quick 5-minute breathing exercise today? It might help you feel more relaxed and refreshed.\"*\n",
       "\n",
       "*Anna follows the suggestion, and her data normalizes. AHS notifies her doctor about the temporary stress increase alongside actionable insights, prompting a focus on stress management during her next visit.*\n",
       "\n",
       "---\n",
       "\n",
       "### Technical Approach Outline\n",
       "\n",
       "- **Data Integration Layer:** Secure APIs and edge computing to aggregate real-time multi-source data.  \n",
       "- **Adaptive Machine Learning Models:** Personalized time-series anomaly detection, reinforcement learning for plan optimization.  \n",
       "- **Natural Language Processing Module:** Contextual dialog system leveraging pretrained models fine-tuned for health coaching communication.  \n",
       "- **Affective Computing Engine:** Emotion recognition from textual input and sensor-derived proxies (e.g., voice tone analysis if applicable).  \n",
       "- **Explainability and Transparency Interfaces:** User-friendly explanations of plan changes and AI reasoning to build trust.  \n",
       "- **Compliance and Privacy Framework:** Encryption, consent management, and regulatory adherence (e.g., HIPAA, GDPR).\n",
       "\n",
       "---\n",
       "\n",
       "### Benefits\n",
       "\n",
       "- **Early prevention and mitigation of health risks through timely interventions**  \n",
       "- **Enhanced user adherence and motivation via personalized, empathetic engagement**  \n",
       "- **Reduced burden on healthcare systems by managing wellness proactively at home**  \n",
       "- **Continuous learning that improves recommendations over time with changing user needs**\n",
       "\n",
       "---\n",
       "\n",
       "If you’d like, I can help with deeper dives such as detailed architecture diagrams, data pipeline design, user journey mapping, or an implementation roadmap. Just let me know!"
      ],
      "text/plain": [
       "<IPython.core.display.Markdown object>"
      ]
     },
     "metadata": {},
     "output_type": "display_data"
    }
   ],
   "source": [
    "# First create the messages:\n",
    "\n",
    "messages = [{\"role\": \"user\", \"content\": business_idea + \"Now, please propose an Agentic AI solution to the pain-point you proposed.\"}]\n",
    "\n",
    "# Then make the first call:\n",
    "response = openai.chat.completions.create(\n",
    "    model=\"gpt-4.1-mini\",\n",
    "    messages=messages\n",
    ")\n",
    "\n",
    "business_idea = response.choices[0].message.content\n",
    "\n",
    "display(Markdown(business_idea))\n",
    "\n",
    "\n",
    "\n",
    "# And repeat! In the next message, include the business idea within the message"
   ]
  },
  {
   "cell_type": "markdown",
   "metadata": {},
   "source": []
  }
 ],
 "metadata": {
  "kernelspec": {
   "display_name": ".venv",
   "language": "python",
   "name": "python3"
  },
  "language_info": {
   "codemirror_mode": {
    "name": "ipython",
    "version": 3
   },
   "file_extension": ".py",
   "mimetype": "text/x-python",
   "name": "python",
   "nbconvert_exporter": "python",
   "pygments_lexer": "ipython3",
   "version": "3.12.11"
  }
 },
 "nbformat": 4,
 "nbformat_minor": 2
}
